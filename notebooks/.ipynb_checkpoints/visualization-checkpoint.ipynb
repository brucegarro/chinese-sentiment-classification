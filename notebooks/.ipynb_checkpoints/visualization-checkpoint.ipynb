{
 "cells": [
  {
   "cell_type": "markdown",
   "metadata": {},
   "source": [
    "### Imports"
   ]
  },
  {
   "cell_type": "code",
   "execution_count": null,
   "metadata": {},
   "outputs": [],
   "source": [
    "import sys\n",
    "sys.path.append(\"../\")\n",
    "from IPython.display import display, Markdown, HTML\n",
    "\n",
    "from preprocessing.document_manager import DocumentManager\n"
   ]
  },
  {
   "cell_type": "markdown",
   "metadata": {},
   "source": [
    "### Load Dataset"
   ]
  },
  {
   "cell_type": "code",
   "execution_count": 2,
   "metadata": {},
   "outputs": [],
   "source": [
    "seed_constant = 1338\n",
    "\n",
    "doc_manager = DocumentManager(seed_constant=seed_constant)\n",
    "doc_manager.cache_documents()"
   ]
  },
  {
   "cell_type": "markdown",
   "metadata": {},
   "source": [
    "### Sample a document"
   ]
  },
  {
   "cell_type": "code",
   "execution_count": null,
   "metadata": {
    "scrolled": false
   },
   "outputs": [],
   "source": [
    "i, document = doc_manager.get_random_document()\n",
    "document.cache_data()"
   ]
  },
  {
   "cell_type": "code",
   "execution_count": null,
   "metadata": {
    "scrolled": false
   },
   "outputs": [],
   "source": [
    "display(Markdown(\"### Document #%s\" % i))\n",
    "\n",
    "display(Markdown(\"Polarity: %s\" % document.data[\"title\"][\"polarity\"]))\n",
    "display(Markdown(\"Emotion Labels: \\n    %s\" % document.data[\"title\"][\"emotion_labals\"]))\n",
    "display(Markdown(\"### %s\" % document.data[\"title\"][\"text\"]))\n",
    "\n",
    "body_text = document.get_body_html(document.data[\"paragraphs\"])\n",
    "# print(document.data[\"paragraphs\"])\n",
    "# import pdb; pdb.set_trace()\n",
    "display(Markdown(body_text))"
   ]
  }
 ],
 "metadata": {
  "kernelspec": {
   "display_name": "Python 3",
   "language": "python",
   "name": "python3"
  },
  "language_info": {
   "codemirror_mode": {
    "name": "ipython",
    "version": 3
   },
   "file_extension": ".py",
   "mimetype": "text/x-python",
   "name": "python",
   "nbconvert_exporter": "python",
   "pygments_lexer": "ipython3",
   "version": "3.7.3"
  }
 },
 "nbformat": 4,
 "nbformat_minor": 4
}
