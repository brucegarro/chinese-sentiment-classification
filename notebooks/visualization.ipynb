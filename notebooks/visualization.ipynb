{
 "cells": [
  {
   "cell_type": "markdown",
   "metadata": {},
   "source": [
    "### Imports"
   ]
  },
  {
   "cell_type": "code",
   "execution_count": 1,
   "metadata": {},
   "outputs": [],
   "source": [
    "import sys\n",
    "sys.path.append(\"../\")\n",
    "from IPython.display import display, Markdown\n",
    "\n",
    "from preprocessing.document_manager import DocumentManager\n"
   ]
  },
  {
   "cell_type": "markdown",
   "metadata": {},
   "source": [
    "### Load Dataset"
   ]
  },
  {
   "cell_type": "code",
   "execution_count": 2,
   "metadata": {},
   "outputs": [],
   "source": [
    "doc_manager = DocumentManager()\n",
    "doc_manager.cache_documents()"
   ]
  },
  {
   "cell_type": "markdown",
   "metadata": {},
   "source": [
    "### Sample a document"
   ]
  },
  {
   "cell_type": "code",
   "execution_count": 3,
   "metadata": {},
   "outputs": [],
   "source": [
    "i, document = doc_manager.get_random_document()\n",
    "document.cache_data()"
   ]
  },
  {
   "cell_type": "code",
   "execution_count": 6,
   "metadata": {},
   "outputs": [
    {
     "data": {
      "text/markdown": [
       "### Document #1265"
      ],
      "text/plain": [
       "<IPython.core.display.Markdown object>"
      ]
     },
     "metadata": {},
     "output_type": "display_data"
    },
    {
     "data": {
      "text/markdown": [
       "Polarity: 积极"
      ],
      "text/plain": [
       "<IPython.core.display.Markdown object>"
      ]
     },
     "metadata": {},
     "output_type": "display_data"
    },
    {
     "data": {
      "text/markdown": [
       "Emotion Labels: \n",
       "    {'Joy': 0.8, 'Hate': 0.0, 'Love': 0.0, 'Sorrow': 0.0, 'Anxiety': 0.0, 'Surprise': 0.0, 'Anger': 0.0, 'Expect': 0.0}"
      ],
      "text/plain": [
       "<IPython.core.display.Markdown object>"
      ]
     },
     "metadata": {},
     "output_type": "display_data"
    },
    {
     "data": {
      "text/markdown": [
       "### 喜得双胞胎"
      ],
      "text/plain": [
       "<IPython.core.display.Markdown object>"
      ]
     },
     "metadata": {},
     "output_type": "display_data"
    },
    {
     "data": {
      "text/markdown": [
       "    看了标题的人应该都以为是本人吧，哈哈……误会，不是我，是我的表弟，准确说是表弟媳。双胞胎，以前只是走在大街上看过、逗过，但从未想过在我的身边竟然也有这样近距离接触双胞胎的机会，感觉很有趣、很兴奋！想着以后有两个一模一样的小家伙以后跟着我的后面叫“姑姑”，“姑姑，给我们买漂亮衣服，给我们买糖吃，姑姑陪我们玩……”嘿嘿……想想都美极了！因为早产，所以现在两个小家伙还睡在小小的保温箱里呢，没有任何人去打扰他们的休息，偶尔会有一个白衣天使检查他们是不是在偷懒，长不长个？我在想他们是不是也要喝牛奶呢，他们才那么小，一个二斤，一个才三斤，护士小姐千万要小心哟，不要碰伤了他们，他们的皮肤可是水嫩水嫩的哟，可以与豆腐相媲美了。小家伙是不是能够感应到姑姑的祝福呢，一定要快快长大哟，姑姑给你们买衣服穿，保证是一模一样的，可是你们也要给姑姑一个面子，不要让我丢脸认错了你们。为了方便我以后疼你们，我给你们两个人先取个小名，就叫“大牛”和“小牛”吧，希望你们的身体像牛一样的壮实，健康快乐！\n",
       "\n",
       "    看了标题的人应该都以为是本人吧，哈哈……误会，不是我，是我的表弟，准确说是表弟媳。双胞胎，以前只是走在大街上看过、逗过，但从未想过在我的身边竟然也有这样近距离接触双胞胎的机会，感觉很有趣、很兴奋！想着以后有两个一模一样的小家伙以后跟着我的后面叫“姑姑”，“姑姑，给我们买漂亮衣服，给我们买糖吃，姑姑陪我们玩……”嘿嘿……想想都美极了！因为早产，所以现在两个小家伙还睡在小小的保温箱里呢，没有任何人去打扰他们的休息，偶尔会有一个白衣天使检查他们是不是在偷懒，长不长个？我在想他们是不是也要喝牛奶呢，他们才那么小，一个二斤，一个才三斤，护士小姐千万要小心哟，不要碰伤了他们，他们的皮肤可是水嫩水嫩的哟，可以与豆腐相媲美了。小家伙是不是能够感应到姑姑的祝福呢，一定要快快长大哟，姑姑给你们买衣服穿，保证是一模一样的，可是你们也要给姑姑一个面子，不要让我丢脸认错了你们。为了方便我以后疼你们，我给你们两个人先取个小名，就叫“大牛”和“小牛”吧，希望你们的身体像牛一样的壮实，健康快乐！\n",
       "\n",
       "    看了标题的人应该都以为是本人吧，哈哈……误会，不是我，是我的表弟，准确说是表弟媳。双胞胎，以前只是走在大街上看过、逗过，但从未想过在我的身边竟然也有这样近距离接触双胞胎的机会，感觉很有趣、很兴奋！想着以后有两个一模一样的小家伙以后跟着我的后面叫“姑姑”，“姑姑，给我们买漂亮衣服，给我们买糖吃，姑姑陪我们玩……”嘿嘿……想想都美极了！因为早产，所以现在两个小家伙还睡在小小的保温箱里呢，没有任何人去打扰他们的休息，偶尔会有一个白衣天使检查他们是不是在偷懒，长不长个？我在想他们是不是也要喝牛奶呢，他们才那么小，一个二斤，一个才三斤，护士小姐千万要小心哟，不要碰伤了他们，他们的皮肤可是水嫩水嫩的哟，可以与豆腐相媲美了。小家伙是不是能够感应到姑姑的祝福呢，一定要快快长大哟，姑姑给你们买衣服穿，保证是一模一样的，可是你们也要给姑姑一个面子，不要让我丢脸认错了你们。为了方便我以后疼你们，我给你们两个人先取个小名，就叫“大牛”和“小牛”吧，希望你们的身体像牛一样的壮实，健康快乐！\n",
       "\n"
      ],
      "text/plain": [
       "<IPython.core.display.Markdown object>"
      ]
     },
     "metadata": {},
     "output_type": "display_data"
    }
   ],
   "source": [
    "display(Markdown(\"### Document #%s\" % i))\n",
    "\n",
    "display(Markdown(\"Polarity: %s\" % document.data[\"title\"][\"polarity\"]))\n",
    "display(Markdown(\"Emotion Labels: \\n    %s\" % document.data[\"title\"][\"emotion_labals\"]))\n",
    "display(Markdown(\"### %s\" % document.data[\"title\"][\"text\"]))\n",
    "\n",
    "body_text = document.get_body_text(document.data[\"paragraphs\"])\n",
    "# import pdb; pdb.set_trace()\n",
    "display(Markdown(body_text))"
   ]
  },
  {
   "cell_type": "code",
   "execution_count": null,
   "metadata": {},
   "outputs": [],
   "source": []
  }
 ],
 "metadata": {
  "kernelspec": {
   "display_name": "Python 3",
   "language": "python",
   "name": "python3"
  },
  "language_info": {
   "codemirror_mode": {
    "name": "ipython",
    "version": 3
   },
   "file_extension": ".py",
   "mimetype": "text/x-python",
   "name": "python",
   "nbconvert_exporter": "python",
   "pygments_lexer": "ipython3",
   "version": "3.7.3"
  }
 },
 "nbformat": 4,
 "nbformat_minor": 4
}
