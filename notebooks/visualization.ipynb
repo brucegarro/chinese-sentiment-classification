{
 "cells": [
  {
   "cell_type": "markdown",
   "metadata": {},
   "source": [
    "### Imports"
   ]
  },
  {
   "cell_type": "code",
   "execution_count": null,
   "metadata": {},
   "outputs": [],
   "source": [
    "import sys\n",
    "sys.path.append(\"../\")\n",
    "from IPython.display import display, Markdown, HTML\n",
    "\n",
    "from preprocessing.document_manager import DocumentManager"
   ]
  },
  {
   "cell_type": "markdown",
   "metadata": {},
   "source": [
    "### Load Dataset"
   ]
  },
  {
   "cell_type": "code",
   "execution_count": null,
   "metadata": {},
   "outputs": [],
   "source": [
    "doc_manager = DocumentManager()\n",
    "doc_manager.cache_documents()"
   ]
  },
  {
   "cell_type": "markdown",
   "metadata": {},
   "source": [
    "### Plot Distrubtion of Emotions by Document and Sentence\n",
    "If a document has any value for any emotion we will count that as a value of '1' for the purpose of producing a distribution."
   ]
  },
  {
   "cell_type": "code",
   "execution_count": null,
   "metadata": {},
   "outputs": [],
   "source": [
    "cumulative_emotion = {}\n",
    "for document in doc_manager.documents:\n",
    "    for label, value in document.data[\"emotion_labels\"].items():\n",
    "        if value > 0.0:\n",
    "            if label in cumulative_emotion:\n",
    "                cumulative_emotion[label] += 1\n",
    "            else:\n",
    "                cumulative_emotion[label] = 1\n",
    "\n",
    "cumulative_sentence_emotions = {}\n",
    "for sentence in doc_manager.get_all_sentences():\n",
    "    for label, value in sentence.data[\"emotion_labels\"].items():\n",
    "        if value > 0.0:\n",
    "            if label in cumulative_sentence_emotions:\n",
    "                cumulative_sentence_emotions[label] += 1\n",
    "            else:\n",
    "                cumulative_sentence_emotions[label] = 1\n",
    "                \n",
    "print(cumulative_emotion)\n",
    "print(cumulative_sentence_emotions)"
   ]
  },
  {
   "cell_type": "code",
   "execution_count": null,
   "metadata": {
    "scrolled": true
   },
   "outputs": [],
   "source": [
    "import matplotlib.pyplot as plt\n",
    "\n",
    "print(\"Occurences of emotion labels in for documents:\")\n",
    "plt.bar(range(len(cumulative_emotion)), list(cumulative_emotion.values()), align=\"center\")\n",
    "plt.xticks(range(len(cumulative_emotion)), list(cumulative_emotion.keys()));"
   ]
  },
  {
   "cell_type": "code",
   "execution_count": null,
   "metadata": {},
   "outputs": [],
   "source": [
    "print(\"Occurences of emotion labels in for all sentences:\")\n",
    "plt.bar(range(len(cumulative_sentence_emotions)), list(cumulative_sentence_emotions.values()), align=\"center\")\n",
    "plt.xticks(range(len(cumulative_sentence_emotions)), list(cumulative_sentence_emotions.keys()));"
   ]
  },
  {
   "cell_type": "markdown",
   "metadata": {},
   "source": [
    "### Conclusions\n",
    "* Given the observed imbalance in the label classes, we'll introduce a balanced sampler before fitting the model."
   ]
  },
  {
   "cell_type": "markdown",
   "metadata": {},
   "source": [
    "### Sample a document"
   ]
  },
  {
   "cell_type": "code",
   "execution_count": null,
   "metadata": {
    "scrolled": false
   },
   "outputs": [],
   "source": [
    "# Set a seed constant to get the same random documents for this notebook\n",
    "import random\n",
    "\n",
    "seed_constant = 1338\n",
    "random.seed(seed_constant)"
   ]
  },
  {
   "cell_type": "code",
   "execution_count": null,
   "metadata": {},
   "outputs": [],
   "source": [
    "i, document = doc_manager.get_random_document()\n",
    "document.cache_data()"
   ]
  },
  {
   "cell_type": "code",
   "execution_count": null,
   "metadata": {
    "scrolled": false
   },
   "outputs": [],
   "source": [
    "display(Markdown(\"### Document #%s\" % i))\n",
    "\n",
    "display(Markdown(\"Polarity: %s\" % document.data[\"title\"][\"polarity\"]))\n",
    "display(Markdown(\"Emotion Labels: \\n    %s\" % document.data[\"title\"][\"emotion_labels\"]))\n",
    "display(Markdown(\"### %s\" % document.data[\"title\"][\"text\"]))\n",
    "\n",
    "body_text = document.get_body_html(document.paragraphs)\n",
    "# print(document.data[\"paragraphs\"])\n",
    "# import pdb; pdb.set_trace()\n",
    "display(Markdown(body_text))"
   ]
  }
 ],
 "metadata": {
  "kernelspec": {
   "display_name": "Python 3",
   "language": "python",
   "name": "python3"
  },
  "language_info": {
   "codemirror_mode": {
    "name": "ipython",
    "version": 3
   },
   "file_extension": ".py",
   "mimetype": "text/x-python",
   "name": "python",
   "nbconvert_exporter": "python",
   "pygments_lexer": "ipython3",
   "version": "3.6.9"
  }
 },
 "nbformat": 4,
 "nbformat_minor": 4
}
